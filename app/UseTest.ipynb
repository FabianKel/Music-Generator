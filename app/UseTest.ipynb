{
 "cells": [
  {
   "cell_type": "markdown",
   "id": "4ab2e066",
   "metadata": {},
   "source": [
    "# **USO DEL MODELO - TEST**"
   ]
  },
  {
   "cell_type": "code",
   "execution_count": null,
   "id": "9c75f528",
   "metadata": {},
   "outputs": [],
   "source": [
    "import json\n",
    "from tensorflow.keras.models import load_model\n",
    "from utils import midi_to_sequence, sequence_to_midi\n",
    "import numpy as np\n",
    "import random\n",
    "from music21 import stream, note, chord, converter"
   ]
  },
  {
   "cell_type": "markdown",
   "id": "52b1cb26",
   "metadata": {},
   "source": [
    "**Se carga el modelo**"
   ]
  },
  {
   "cell_type": "code",
   "execution_count": 2,
   "id": "bf9cd21f",
   "metadata": {},
   "outputs": [
    {
     "name": "stderr",
     "output_type": "stream",
     "text": [
      "WARNING:absl:Compiled the loaded model, but the compiled metrics have yet to be built. `model.compile_metrics` will be empty until you train or evaluate the model.\n"
     ]
    }
   ],
   "source": [
    "model = load_model(\"models/best_model.h5\")\n",
    "with open(\"models/token2idx.json\", 'r') as f:\n",
    "    token2idx = json.load(f)\n",
    "\n",
    "VOCAB_SIZE = len(token2idx) + 1"
   ]
  },
  {
   "cell_type": "markdown",
   "id": "fefd5cf6",
   "metadata": {},
   "source": [
    "**Funciones auxiliares**"
   ]
  },
  {
   "cell_type": "code",
   "execution_count": 3,
   "id": "fa88bdd7",
   "metadata": {},
   "outputs": [],
   "source": [
    "\n",
    "def sequence_to_tokens(seq_indices, idx2token):\n",
    "    return [idx2token.get(i, \"<UNK>\") for i in seq_indices]\n",
    "\n",
    "def build_stream_from_sequence_tokens(seq_tokens):\n",
    "    \"\"\"Construye music21.Stream a partir de lista de tokens (C4 o C4.E4.G4).\"\"\"\n",
    "    S = stream.Part()\n",
    "    S.append(stream.Measure())\n",
    "    offset = 0\n",
    "    for t in seq_tokens:\n",
    "        if \".\" in t:\n",
    "            notes = [note.Note(int(n)) if n.isdigit() else note.Note(n) for n in t.split(\".\")]\n",
    "            c = chord.Chord(notes)\n",
    "            c.quarterLength = 1.0\n",
    "            c.offset = offset\n",
    "            S.append(c)\n",
    "        else:\n",
    "            n = note.Note(t) if not t.isdigit() else note.Note(int(t))\n",
    "            n.quarterLength = 1.0\n",
    "            n.offset = offset\n",
    "            S.append(n)\n",
    "        offset += 1\n",
    "    sc = stream.Score()\n",
    "    sc.insert(0, S)\n",
    "    return sc\n",
    "\n",
    "def generate_music_auto(model, seed_seq_indices, gen_len=200, temperature=1.0):\n",
    "    \"\"\"Genera índices (no tokens) autoregresivamente usando modelo keras.\n",
    "       temperature >0 controla aleatoriedad: 1.0 = sin cambio, <1.0 menos variedad, >1.0 más.\"\"\"\n",
    "    SEQ_LEN_INPUT_ACTUAL = model.input_shape[1] \n",
    "    generated = list(seed_seq_indices)\n",
    "    \n",
    "    for _ in range(gen_len):\n",
    "        input_seq = np.array([generated[-SEQ_LEN_INPUT_ACTUAL:]]) \n",
    "        \n",
    "        preds = model.predict(input_seq, verbose=0)[0]\n",
    "        \n",
    "        preds = np.log(preds + 1e-9) / temperature\n",
    "        exp_preds = np.exp(preds)\n",
    "        preds = exp_preds / np.sum(exp_preds)\n",
    "        next_idx = np.random.choice(range(VOCAB_SIZE), p=preds)\n",
    "        \n",
    "        generated.append(next_idx)\n",
    "    return generated"
   ]
  },
  {
   "cell_type": "markdown",
   "id": "4ce746d0",
   "metadata": {},
   "source": [
    "## **Función para generar música**\n",
    "\n",
    "Genera índices que luego hay que pasar a tokens y de último a MIDI"
   ]
  },
  {
   "cell_type": "code",
   "execution_count": 4,
   "id": "30875e61",
   "metadata": {},
   "outputs": [],
   "source": [
    "def generate_music_auto(model, seed_seq_indices, gen_len=200, temperature=1.0):\n",
    "    \"\"\"Genera índices (no tokens) autoregresivamente usando modelo keras.\n",
    "       temperature >0 controla aleatoriedad: 1.0 = sin cambio, <1.0 menos variedad, >1.0 más.\"\"\"\n",
    "    SEQ_LEN_INPUT_ACTUAL = model.input_shape[1] \n",
    "    generated = list(seed_seq_indices)\n",
    "    \n",
    "    for _ in range(gen_len):\n",
    "        input_seq = np.array([generated[-SEQ_LEN_INPUT_ACTUAL:]]) \n",
    "        \n",
    "        preds = model.predict(input_seq, verbose=0)[0]\n",
    "        \n",
    "        preds = np.log(preds + 1e-9) / temperature\n",
    "        exp_preds = np.exp(preds)\n",
    "        preds = exp_preds / np.sum(exp_preds)\n",
    "        next_idx = np.random.choice(range(VOCAB_SIZE), p=preds)\n",
    "        \n",
    "        generated.append(next_idx)\n",
    "    return generated"
   ]
  },
  {
   "cell_type": "code",
   "execution_count": 5,
   "id": "7e4d05a0",
   "metadata": {},
   "outputs": [],
   "source": [
    "def encode_seed(seed_notes, token2idx):\n",
    "    seed_encoded = []\n",
    "    not_founded = 0\n",
    "    for n in seed_notes:\n",
    "        if n in token2idx:\n",
    "            #print(type(n))\n",
    "            seed_encoded.append(token2idx[n])\n",
    "        else:\n",
    "            not_founded += 1\n",
    "    print(f\"Notas no encontradas: {not_founded}\")\n",
    "    return seed_encoded"
   ]
  },
  {
   "cell_type": "code",
   "execution_count": 6,
   "id": "b237d3ac",
   "metadata": {},
   "outputs": [
    {
     "name": "stdout",
     "output_type": "stream",
     "text": [
      "Notas no encontradas: 18\n",
      "[520, 520, 5600, 11635, 203, 520, 641, 5600, 11635, 203, 520, 5228, 5600, 9689, 1534, 6572, 6986, 14561, 5228, 520, 14802, 14561, 14279, 520, 1855, 5012, 9067, 14561, 14279, 1855, 9689, 5012, 6986, 12292, 11635, 203, 11933, 5228, 11933, 12292, 11635, 1534, 6986, 6572, 1855, 5600, 11635, 203, 520, 5228, 11933, 7349, 520, 11635, 5600, 203, 11933, 5228, 11933, 12292, 11635, 1534, 6986, 6572, 1855, 5600, 11635, 203, 520, 5228, 11933, 1855, 5012, 5600, 1855, 14879, 12174, 520, 520, 5600, 11635, 203, 520, 641, 5600, 11635, 203, 520, 5228, 5600, 9689, 1534, 6572, 6986, 14561, 5228, 520, 14802, 14561, 14279, 520, 1855, 5012, 9067, 14561, 14279, 1855, 9689, 5012, 6986, 12292, 11635, 203, 11933, 5228, 11933, 12292, 11635, 1534, 6986, 6572, 1855, 5600, 11635, 203, 520, 5228, 11933, 7349, 520, 11635, 5600, 203, 11933, 5228, 11933, 12292, 11635, 1534, 6986, 6572, 1855, 5600, 11635, 203, 520, 5228, 11933, 1855, 5012, 5600, 1855, 14879, 12174]\n"
     ]
    }
   ],
   "source": [
    "# Elegir seed:\n",
    "seed_notes = midi_to_sequence(\"data/lullaby-piano.mid\")\n",
    "seed_notes[:1]\n",
    "seed_indices = encode_seed(seed_notes, token2idx)\n",
    "print(seed_indices) "
   ]
  },
  {
   "cell_type": "code",
   "execution_count": 7,
   "id": "e6414f60",
   "metadata": {},
   "outputs": [
    {
     "name": "stdout",
     "output_type": "stream",
     "text": [
      "[520, 520, 5600, 11635, 203, 520, 641, 5600, 11635, 203, 520, 5228, 5600, 9689, 1534, 6572, 6986, 14561, 5228, 520, 14802, 14561, 14279, 520, 1855, 5012, 9067, 14561, 14279, 1855, 9689, 5012, 6986, 12292, 11635, 203, 11933, 5228, 11933, 12292, 11635, 1534, 6986, 6572, 1855, 5600, 11635, 203, 520, 5228, 11933, 7349, 520, 11635, 5600, 203, 11933, 5228, 11933, 12292, 11635, 1534, 6986, 6572, 1855, 5600, 11635, 203, 520, 5228, 11933, 1855, 5012, 5600, 1855, 14879, 12174, 520, 520, 5600, 11635, 203, 520, 641, 5600, 11635, 203, 520, 5228, 5600, 9689, 1534, 6572, 6986, 14561, 5228, 520, 14802, 14561, 14279, 520, 1855, 5012, 9067, 14561, 14279, 1855, 9689, 5012, 6986, 12292, 11635, 203, 11933, 5228, 11933, 12292, 11635, 1534, 6986, 6572, 1855, 5600, 11635, 203, 520, 5228, 11933, 7349, 520, 11635, 5600, 203, 11933, 5228, 11933, 12292, 11635, 1534, 6986, 6572, 1855, 5600, 11635, 203, 520, 5228, 11933, 1855, 5012, 5600, 1855, 14879, 12174, np.int64(6986), np.int64(12292), np.int64(12292), np.int64(2199), np.int64(5309), np.int64(1855), np.int64(902), np.int64(6986), np.int64(5600), np.int64(5600), np.int64(9689), np.int64(14915), np.int64(2199), np.int64(12292), np.int64(12292), np.int64(11933), np.int64(2199), np.int64(902), np.int64(12292), np.int64(12292), np.int64(12292), np.int64(8380), np.int64(520), np.int64(11635), np.int64(12292), np.int64(12292), np.int64(12292), np.int64(12292), np.int64(12292), np.int64(11635), np.int64(2199), np.int64(14915), np.int64(1392), np.int64(12292), np.int64(11933), np.int64(9689), np.int64(13705), np.int64(520), np.int64(6572), np.int64(11008), np.int64(14915), np.int64(14915), np.int64(14915), np.int64(6572), np.int64(14915), np.int64(11933), np.int64(2199), np.int64(5953), np.int64(5953), np.int64(902), np.int64(5953), np.int64(2199), np.int64(2199), np.int64(5953), np.int64(2199), np.int64(5600), np.int64(2199), np.int64(902), np.int64(2199), np.int64(902), np.int64(5600), np.int64(902), np.int64(902), np.int64(2199), np.int64(902), np.int64(5953), np.int64(5953), np.int64(902), np.int64(902), np.int64(5600), np.int64(12292), np.int64(2199), np.int64(902), np.int64(8380), np.int64(902), np.int64(12292), np.int64(9689), np.int64(9689), np.int64(12292), np.int64(6986), np.int64(9689), np.int64(9689), np.int64(6986), np.int64(5600), np.int64(9689), np.int64(12292), np.int64(5600), np.int64(12292), np.int64(6986), np.int64(5600), np.int64(5600), np.int64(5600), np.int64(13335), np.int64(5228), np.int64(13335), np.int64(5228), np.int64(9689), np.int64(9313), np.int64(9689), np.int64(9689)]\n"
     ]
    }
   ],
   "source": [
    "gen_indices = generate_music_auto(model, seed_indices, gen_len=100, temperature=0.7)\n",
    "idx2token = {v: k for k, v in token2idx.items()}\n",
    "gen_tokens = sequence_to_tokens(gen_indices, idx2token)\n",
    "\n",
    "print(gen_indices)"
   ]
  },
  {
   "cell_type": "markdown",
   "id": "53f812f7",
   "metadata": {},
   "source": [
    "**Cambiar nombre del archivo para diferenciarlos**"
   ]
  },
  {
   "cell_type": "code",
   "execution_count": 10,
   "id": "c4fae4d5",
   "metadata": {},
   "outputs": [
    {
     "name": "stdout",
     "output_type": "stream",
     "text": [
      "Generado MIDI: generated/generated_lullaby.mid\n"
     ]
    }
   ],
   "source": [
    "# Convertir a music21 stream y guardar MIDI\n",
    "gen_stream = build_stream_from_sequence_tokens(gen_tokens)\n",
    "midi_fp = \"generated/generated_lullaby.mid\"\n",
    "gen_stream.write('midi', fp=midi_fp)\n",
    "print(\"Generado MIDI:\", midi_fp)"
   ]
  },
  {
   "cell_type": "markdown",
   "id": "16c88d4f",
   "metadata": {},
   "source": [
    "**Muestra de notas no encontradas**\n",
    "\n",
    "Esto para verificar que notas no se encuentran y buscar soluciones como las descritas en mi mensaje\n",
    "\n",
    "> No tiene nada que ver con lo ya generado, es código que usé para depurar y ver problemas antes de generar una canción"
   ]
  },
  {
   "cell_type": "code",
   "execution_count": 9,
   "id": "1ff11573",
   "metadata": {},
   "outputs": [
    {
     "name": "stdout",
     "output_type": "stream",
     "text": [
      "[520, 520, 5600, 11635, 203, 520, 641, 5600, 11635, 203]\n"
     ]
    }
   ],
   "source": [
    "seed_encoded = []\n",
    "for n in seed_notes:\n",
    "    n_clean = n.strip() \n",
    "    if n_clean in token2idx:\n",
    "        seed_encoded.append(token2idx[n_clean])\n",
    "        # print(f\"Nota {n_clean} encontrada y añadida.\")\n",
    "    else:\n",
    "        seed_encoded.append(token2idx[\"<UNK>\"])\n",
    "        # print(f\"Nota limpia '{n_clean}' no encontrada (original: '{n}').\")\n",
    "\n",
    "print(seed_encoded[:10])"
   ]
  }
 ],
 "metadata": {
  "kernelspec": {
   "display_name": ".venv",
   "language": "python",
   "name": "python3"
  },
  "language_info": {
   "codemirror_mode": {
    "name": "ipython",
    "version": 3
   },
   "file_extension": ".py",
   "mimetype": "text/x-python",
   "name": "python",
   "nbconvert_exporter": "python",
   "pygments_lexer": "ipython3",
   "version": "3.13.3"
  }
 },
 "nbformat": 4,
 "nbformat_minor": 5
}
